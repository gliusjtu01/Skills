{
 "cells": [
  {
   "cell_type": "code",
   "execution_count": 3,
   "id": "17b844ab-f3e0-468b-a053-c88465f98b7b",
   "metadata": {},
   "outputs": [
    {
     "name": "stdout",
     "output_type": "stream",
     "text": [
      "   record_id zipcode                               address  distance_miles\n",
      "0          1   29715  1001 BLYTHE BLVD, CHARLOTTE NC 28203       14.064595\n",
      "1          2   28205  1002 BLYTHE BLVD, CHARLOTTE NC 28203     5379.743473\n",
      "2          3   28120  1003 BLYTHE BLVD, CHARLOTTE NC 28203     5386.592250\n",
      "3          4   28207  1004 BLYTHE BLVD, CHARLOTTE NC 28203     4321.690381\n",
      "4          5   28001  1005 BLYTHE BLVD, CHARLOTTE NC 28203     4640.848082\n",
      "5          6   29708  1006 BLYTHE BLVD, CHARLOTTE NC 28203       13.917924\n"
     ]
    }
   ],
   "source": [
    "import pandas as pd\n",
    "import geopy\n",
    "from geopy.geocoders import Nominatim\n",
    "from geopy.distance import geodesic\n",
    "import time\n",
    "\n",
    "# Sample data\n",
    "data = {\n",
    "    'record_id': [1, 2, 3, 4, 5, 6],\n",
    "    'zipcode': ['29715', '28205', '28120', '28207', '28001', '29708'],\n",
    "    'address': [\n",
    "        '1001 BLYTHE BLVD, CHARLOTTE NC 28203',\n",
    "        '1002 BLYTHE BLVD, CHARLOTTE NC 28203',\n",
    "        '1003 BLYTHE BLVD, CHARLOTTE NC 28203',\n",
    "        '1004 BLYTHE BLVD, CHARLOTTE NC 28203',\n",
    "        '1005 BLYTHE BLVD, CHARLOTTE NC 28203',\n",
    "        '1006 BLYTHE BLVD, CHARLOTTE NC 28203'\n",
    "    ]\n",
    "}\n",
    "\n",
    "df = pd.DataFrame(data)\n",
    "\n",
    "# Initialize geocoder\n",
    "geolocator = Nominatim(user_agent=\"zipcode_distance_checker\")\n",
    "\n",
    "# Helper function to get lat/lon\n",
    "def get_location(place):\n",
    "    try:\n",
    "        location = geolocator.geocode(place)\n",
    "        time.sleep(1)  # Be polite to the API\n",
    "        if location:\n",
    "            return (location.latitude, location.longitude)\n",
    "        else:\n",
    "            return None\n",
    "    except:\n",
    "        return None\n",
    "\n",
    "# Get coordinates\n",
    "df['zip_coord'] = df['zipcode'].apply(get_location)\n",
    "df['addr_coord'] = df['address'].apply(get_location)\n",
    "\n",
    "# Calculate distance in miles\n",
    "df['distance_miles'] = df.apply(\n",
    "    lambda row: geodesic(row['zip_coord'], row['addr_coord']).miles\n",
    "    if row['zip_coord'] and row['addr_coord'] else None,\n",
    "    axis=1\n",
    ")\n",
    "\n",
    "# Output results\n",
    "print(df[['record_id', 'zipcode', 'address', 'distance_miles']])"
   ]
  },
  {
   "cell_type": "code",
   "execution_count": 5,
   "id": "70c73140-f8a2-4586-8a09-0367cd4623c7",
   "metadata": {},
   "outputs": [
    {
     "name": "stdout",
     "output_type": "stream",
     "text": [
      "     record_id  zipcode                               address  distance_miles\n",
      "0            1    29715  1001 BLYTHE BLVD, CHARLOTTE NC 28203       14.064595\n",
      "1            2    28205  1002 BLYTHE BLVD, CHARLOTTE NC 28203        3.162646\n",
      "2            3    28120  1003 BLYTHE BLVD, CHARLOTTE NC 28203       13.225566\n",
      "3            4    28207  1004 BLYTHE BLVD, CHARLOTTE NC 28203        1.072787\n",
      "4            5    28001  1005 BLYTHE BLVD, CHARLOTTE NC 28203       37.414975\n",
      "..         ...      ...                                   ...             ...\n",
      "163        167    28277  1164 BLYTHE BLVD, CHARLOTTE NC 28203       10.544598\n",
      "164        168    28001  1165 BLYTHE BLVD, CHARLOTTE NC 28203       37.467835\n",
      "165        169    29708  1166 BLYTHE BLVD, CHARLOTTE NC 28203       13.829136\n",
      "166        170    28215  1167 BLYTHE BLVD, CHARLOTTE NC 28203        8.002031\n",
      "167        171    28277  1168 BLYTHE BLVD, CHARLOTTE NC 28203       10.539475\n",
      "\n",
      "[168 rows x 4 columns]\n"
     ]
    }
   ],
   "source": [
    "import pandas as pd\n",
    "from geopy.geocoders import Nominatim\n",
    "from geopy.distance import geodesic\n",
    "import time\n",
    "\n",
    "# Sample data\n",
    "data = {\n",
    "    'record_id': [1, 2, 3, 4, 5, 6],\n",
    "    'zipcode': ['29715', '28205', '28120', '28207', '28001', '29708'],\n",
    "    'address': [\n",
    "        '1001 BLYTHE BLVD, CHARLOTTE NC 28203',\n",
    "        '1002 BLYTHE BLVD, CHARLOTTE NC 28203',\n",
    "        '1003 BLYTHE BLVD, CHARLOTTE NC 28203',\n",
    "        '1004 BLYTHE BLVD, CHARLOTTE NC 28203',\n",
    "        '1005 BLYTHE BLVD, CHARLOTTE NC 28203',\n",
    "        '1006 BLYTHE BLVD, CHARLOTTE NC 28203'\n",
    "    ]\n",
    "}\n",
    "\n",
    "file_path = \"C:/Users/gangl/Documents/Python Scripts/Distance.csv\"\n",
    "df = pd.read_csv(file_path)\n",
    "\n",
    "# Initialize geocoder\n",
    "geolocator = Nominatim(user_agent=\"zipcode_distance_checker\")\n",
    "\n",
    "# Function to geocode an address or ZIP\n",
    "def get_location(place):\n",
    "    try:\n",
    "        location = geolocator.geocode(place)\n",
    "        time.sleep(1)  # prevent API block\n",
    "        if location:\n",
    "            return (location.latitude, location.longitude)\n",
    "    except:\n",
    "        return None\n",
    "\n",
    "# Geocode the address (same city, so only slight changes)\n",
    "df['addr_coord'] = df['address'].apply(get_location)\n",
    "\n",
    "# Geocode the ZIP code (treated as city/region center)\n",
    "df['zip_coord'] = df['zipcode'].apply(lambda z: get_location(f\"{z}, USA\"))\n",
    "\n",
    "# Compute distance (miles)\n",
    "df['distance_miles'] = df.apply(\n",
    "    lambda row: geodesic(row['zip_coord'], row['addr_coord']).miles\n",
    "    if row['zip_coord'] and row['addr_coord'] else None,\n",
    "    axis=1\n",
    ")\n",
    "\n",
    "# Show results\n",
    "print(df[['record_id', 'zipcode', 'address', 'distance_miles']])"
   ]
  },
  {
   "cell_type": "code",
   "execution_count": 6,
   "id": "40a4c9f5-17b5-4965-88cc-eb8034591a85",
   "metadata": {},
   "outputs": [],
   "source": [
    "df.to_csv(\"DistanceFromZipcodeToHospital.csv\", index=False)"
   ]
  }
 ],
 "metadata": {
  "kernelspec": {
   "display_name": "Python 3 (ipykernel)",
   "language": "python",
   "name": "python3"
  },
  "language_info": {
   "codemirror_mode": {
    "name": "ipython",
    "version": 3
   },
   "file_extension": ".py",
   "mimetype": "text/x-python",
   "name": "python",
   "nbconvert_exporter": "python",
   "pygments_lexer": "ipython3",
   "version": "3.11.7"
  }
 },
 "nbformat": 4,
 "nbformat_minor": 5
}
