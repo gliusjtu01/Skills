{
 "cells": [
  {
   "cell_type": "code",
   "execution_count": 5,
   "id": "0a1391cc-e3c8-4fc2-815c-2a964f419d98",
   "metadata": {},
   "outputs": [
    {
     "name": "stderr",
     "output_type": "stream",
     "text": [
      "C:\\Users\\gangl\\AppData\\Local\\Temp\\ipykernel_34312\\475362532.py:18: UserWarning: Geometry is in a geographic CRS. Results from 'distance' are likely incorrect. Use 'GeoSeries.to_crs()' to re-project geometries to a projected CRS before this operation.\n",
      "\n",
      "  hospitals['distance'] = hospitals.geometry.distance(incident_location)\n"
     ]
    },
    {
     "ename": "AttributeError",
     "evalue": "module 'osmnx' has no attribute 'plot_graph_route_folium'",
     "output_type": "error",
     "traceback": [
      "\u001b[1;31m---------------------------------------------------------------------------\u001b[0m",
      "\u001b[1;31mAttributeError\u001b[0m                            Traceback (most recent call last)",
      "Cell \u001b[1;32mIn[5], line 32\u001b[0m\n\u001b[0;32m     29\u001b[0m shortest_route \u001b[38;5;241m=\u001b[39m nx\u001b[38;5;241m.\u001b[39mshortest_path(G, orig_node, dest_node, weight\u001b[38;5;241m=\u001b[39m\u001b[38;5;124m'\u001b[39m\u001b[38;5;124mlength\u001b[39m\u001b[38;5;124m'\u001b[39m)\n\u001b[0;32m     31\u001b[0m \u001b[38;5;66;03m# Step 7: Convert route to a list of lat/lon points\u001b[39;00m\n\u001b[1;32m---> 32\u001b[0m route_map \u001b[38;5;241m=\u001b[39m ox\u001b[38;5;241m.\u001b[39mplot_graph_route_folium(G, shortest_route, route_linewidth\u001b[38;5;241m=\u001b[39m\u001b[38;5;241m6\u001b[39m)\n\u001b[0;32m     34\u001b[0m \u001b[38;5;66;03m# Step 8: Add markers to the map\u001b[39;00m\n\u001b[0;32m     35\u001b[0m folium\u001b[38;5;241m.\u001b[39mMarker(\n\u001b[0;32m     36\u001b[0m     location\u001b[38;5;241m=\u001b[39m[incident_location\u001b[38;5;241m.\u001b[39my, incident_location\u001b[38;5;241m.\u001b[39mx],\n\u001b[0;32m     37\u001b[0m     popup\u001b[38;5;241m=\u001b[39m\u001b[38;5;124m'\u001b[39m\u001b[38;5;124mIncident Location\u001b[39m\u001b[38;5;124m'\u001b[39m,\n\u001b[0;32m     38\u001b[0m     icon\u001b[38;5;241m=\u001b[39mfolium\u001b[38;5;241m.\u001b[39mIcon(color\u001b[38;5;241m=\u001b[39m\u001b[38;5;124m'\u001b[39m\u001b[38;5;124mred\u001b[39m\u001b[38;5;124m'\u001b[39m)\n\u001b[0;32m     39\u001b[0m )\u001b[38;5;241m.\u001b[39madd_to(route_map)\n",
      "\u001b[1;31mAttributeError\u001b[0m: module 'osmnx' has no attribute 'plot_graph_route_folium'"
     ]
    }
   ],
   "source": [
    "import geopandas as gpd\n",
    "import osmnx as ox\n",
    "import networkx as nx\n",
    "import folium\n",
    "from shapely.geometry import Point\n",
    "\n",
    "# Step 1: Simulate an ambulance's GPS location (incident site)\n",
    "incident_location = Point(-80.8431, 35.2271)  # Charlotte, NC coordinates\n",
    "\n",
    "# Step 2: Load hospital locations (sample data)\n",
    "hospitals = gpd.GeoDataFrame(\n",
    "    {'name': ['Hospital A', 'Hospital B'],\n",
    "     'geometry': [Point(-80.8400, 35.2300), Point(-80.8500, 35.2200)]},\n",
    "    crs='EPSG:4326'\n",
    ")\n",
    "\n",
    "# Step 3: Get the nearest hospital\n",
    "hospitals['distance'] = hospitals.geometry.distance(incident_location)\n",
    "nearest_hospital = hospitals.loc[hospitals['distance'].idxmin()]\n",
    "\n",
    "# Step 4: Download road network from OpenStreetMap\n",
    "G = ox.graph_from_point((35.2271, -80.8431), dist=2000, network_type='drive')\n",
    "\n",
    "# Step 5: Find the nearest nodes in the network\n",
    "orig_node = ox.distance.nearest_nodes(G, X=incident_location.x, Y=incident_location.y)\n",
    "dest_node = ox.distance.nearest_nodes(G, X=nearest_hospital.geometry.x, Y=nearest_hospital.geometry.y)\n",
    "\n",
    "# Step 6: Compute the shortest path\n",
    "shortest_route = nx.shortest_path(G, orig_node, dest_node, weight='length')\n",
    "\n",
    "# Step 7: Convert route to a list of lat/lon points\n",
    "route_map = ox.plot_graph_route_folium(G, shortest_route, route_linewidth=6)\n",
    "\n",
    "# Step 8: Add markers to the map\n",
    "folium.Marker(\n",
    "    location=[incident_location.y, incident_location.x],\n",
    "    popup='Incident Location',\n",
    "    icon=folium.Icon(color='red')\n",
    ").add_to(route_map)\n",
    "\n",
    "folium.Marker(\n",
    "    location=[nearest_hospital.geometry.y, nearest_hospital.geometry.x],\n",
    "    popup=nearest_hospital['name'],\n",
    "    icon=folium.Icon(color='blue')\n",
    ").add_to(route_map)\n",
    "\n",
    "# Step 9: Save and display the map\n",
    "route_map.save(\"ambulance_route.html\")\n",
    "print(\"Map saved as ambulance_route.html\")\n"
   ]
  },
  {
   "cell_type": "code",
   "execution_count": null,
   "id": "2eb33803-2884-46ca-acf7-368f229f5493",
   "metadata": {},
   "outputs": [],
   "source": []
  }
 ],
 "metadata": {
  "kernelspec": {
   "display_name": "Python 3 (ipykernel)",
   "language": "python",
   "name": "python3"
  },
  "language_info": {
   "codemirror_mode": {
    "name": "ipython",
    "version": 3
   },
   "file_extension": ".py",
   "mimetype": "text/x-python",
   "name": "python",
   "nbconvert_exporter": "python",
   "pygments_lexer": "ipython3",
   "version": "3.11.7"
  }
 },
 "nbformat": 4,
 "nbformat_minor": 5
}
